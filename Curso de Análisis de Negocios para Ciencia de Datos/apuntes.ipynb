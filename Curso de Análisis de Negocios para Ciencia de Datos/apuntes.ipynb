{
 "cells": [
  {
   "cell_type": "markdown",
   "metadata": {},
   "source": [
    "# ¿Qué es y qué hace el Científico de datos o Data Scientist?\n",
    "\n",
    "Científico de datos: Persona que sabe más de estadística que cualquier programador y que a la vez sabe más de programación que cualquier estadístico.\n",
    "Profesional dedicado a analizar e interpretar grandes bases de datos.\n",
    "\n",
    "- Recopilar grandes cantidades de datos revueltos y transformarlos a un formato más utilizable.\n",
    "- Resolver problemas relacionados con negocios empleando técnicas basadas en datos.\n",
    "- Trabajar con diversos lenguajes de programación, incluidos SAS, R y Python.\n",
    "- Dominar técnicas analíticas como el machine learning, deep learning y analítica de texto.\n",
    "- Buscar orden y patrones en datos, además de detectar tendencias que puedan ayudar a la base de\n",
    "operación de una empresa."
   ]
  },
  {
   "cell_type": "markdown",
   "metadata": {},
   "source": [
    "# Big data\n",
    "El análisis de datos o Big Data les permite saber a las compañías cuál es el próximo paso que deben tomar. Descubrir patrones de consumo y correlaciones les da una percepción clara del mercado para tomar decisiones inteligentes y seguras.\n",
    "\n",
    "### Características:\n",
    "\n",
    "- Gran volumen de información o no hay una definición clara sobre cifras exactas (cuando Excel se bloquea)\n",
    "\n",
    "- Las empresas almacenan datos diariamente o hay empresas que generan información, pero no hacen uso de estos o los especialistas en BigData se encargan de convertir esta información en acción\n",
    "\n",
    "- Costos, eficiencia, entender a los clientes o adicionalmente tenemos información de categorías, de textos y otros o El BigData ayuda a crear un puente entre la empresa y los usuarios finales\n",
    "\n",
    "- Crear una solución matemática a un problema de negocio\n",
    "\n",
    "\n",
    "Empresas que están usando Big Data y obtuvieron los mejores resultados\n",
    "- Amazon\n",
    "- Netflix\n",
    "- Apple\n",
    "- Coca-cola\n",
    "- Starbucks"
   ]
  },
  {
   "cell_type": "markdown",
   "metadata": {},
   "source": [
    "# Tipología de datos:\n",
    "\n",
    "- Personas: gustos, likes o preferencias, lugares que has visitado, personas con las que estás más tiempo.\n",
    "\n",
    "- Transacciones:\n",
    "1. Monetarias: pagos, cuanto pagas, en qué establecimiento, que producto o servicio obtienes.\n",
    "2. No monetarias: por ejemplos tus llamadas telefónicas, cuánto duran, a quién le marcas, etc.\n",
    "\n",
    "- Navegación web: Quién accede a las páginas web, de dónde son, clicks que das, cuánto tiempo duras en la página.\n",
    "\n",
    "- Machine 2 Machine: conexión de una máquina a otra máquina. Por ejemplo el GPS de tu teléfono para ubicar al conductor de Didi más cercano.\n",
    "\n",
    "- Biométricos: datos que te identifican como persona única, huella dactilar, tipo de sangre, tu voz, tu rostro para desbloquear tu smartphone, iris."
   ]
  },
  {
   "cell_type": "markdown",
   "metadata": {},
   "source": [
    "# Empresas data-driven\n",
    "- Crear una cultura de datos: entenderlo, hacer que los empleados tomen decisiones basadas en datos.\n",
    "- Recolectar información: entender toda la información que\n",
    "tenemos.\n",
    "- Medir todo: Entendemos lo que tenemos y cómo se\n",
    "comporta.\n",
    "- Datos relevantes y precisos: Basarnos en datos que nos sirvan, sea el tiempo, cliente, y sus tipos.\n",
    "- Testear y crear hipótesis: Partir de una hipótesis, plantear una pregunta específica para estudiar lo que vas a testear.\n",
    "- Desde los insights de datos a las acciones: Teniendo los insights(visiones), tomamos acciones.\n",
    "- Cumplir las regulaciones de datos: Cumplir los reglamentos\n",
    "- Automatizar: Automatizar no más…"
   ]
  },
  {
   "cell_type": "markdown",
   "metadata": {},
   "source": []
  },
  {
   "cell_type": "markdown",
   "metadata": {},
   "source": [
    "# Inteligencia Artificial, Machine Learning y Deep Learning\n",
    "\n",
    "- Inteligencia Artificial es la capacidad de las computadoras de mostrar un comportamiento “inteligente”. Mientras que Machine Learning es una de técnica que se utiliza para crear y mejorar dicho comportamiento. Esto mediante entrenamientos automáticos basados en la exposición a datos.\n",
    "Al utilizar redes neuronales de gran profundidad, el aprendizaje automático se convierte en aprendizaje profundo.\n",
    "- Inteligencia artificial: capacidad de jugar ajedrez.\n",
    "- Machine Learning: técnica de entrenamiento para enseñar a jugar ajedrez.\n",
    "- Inteligencia artificial: Máquina simulando el comportamiento y razonamiento de los humanos. Para ello usan diferentes técnicas como Machine learning\n",
    "\n",
    "- Machine learning: Capacidad de las computadoras para aprender por sí mismas a partir de datos y experiencia. en usos complejos usa el Deep learning\n",
    "Ejemplo:\n",
    "- - Detección de fraudes\n",
    "- - Búsqueda web\n",
    "- - Anuncios a tiempo real\n",
    "- - Análisis de textos\n",
    "- - Next best action: Predecir la acción que un usuario va a tomar\n",
    "\n",
    "- Deep learning: Algoritmos que permiten clasificar y relacionar grandes volúmenes de información imitando redes neuronales."
   ]
  },
  {
   "cell_type": "markdown",
   "metadata": {},
   "source": [
    "# Deep learning\n",
    "Entrena a una computadora para que realice tareas, como el reconocimiento del habla, la identificación de imágenes o hacer predicciones.\n",
    "El deep learning configura parámetros básicos acerca de los datos y entrena a la computadora para que aprenda por cuenta propia reconociendo patrones mediante el uso de muchas capas de procesamiento."
   ]
  },
  {
   "cell_type": "markdown",
   "metadata": {},
   "source": [
    "# Flujo de trabajo en ciencia de datos: fases, roles y oportunidades laborales\n",
    "### Roles de datos:\n",
    "\n",
    "\n",
    "#### - Ing. de datos:\n",
    "Hace la coneccion entre el dispositivo y la creación de una base de datos. Trabajan haciendo APIs, eTLs, conectores y las herramientas más usadas son SQl y NoSQL\n",
    "\n",
    "#### - Analista Business Intelligence\n",
    "A partir de la información que creo el ing. de datos extrae la información que le interesa, crea cuadros de control, automatiza estos procedimientos y las herramientas más usadas son SQL y Excel.\n",
    "\n",
    "#### - Data Scientist\n",
    "Sabe el rol del analista, extraer la información, y sabe predecir. Las herramientas más usadas son R y Python.\n",
    "\n",
    "#### - Data Translator \n",
    "Persona que pueda interpretar los datos y pueda comunicarnos con los otros equipos de negocios.Experto en la necesidad de negocio."
   ]
  },
  {
   "cell_type": "markdown",
   "metadata": {},
   "source": [
    "# Herramientas para cada etapa del análisis de datos\n",
    "### Extracción de información con SQL\n",
    "Sintetiza una base de datos, sirve para entregar un cuadro de control de la operación.\n",
    "\n",
    "### Analisis y visualizacion con R y Python\n",
    "##### R\n",
    "Tiene un enfoque más estadístico basado en la econometría. Es más complejo. Análisis descriptivo y exploratorio.\n",
    "##### Python\n",
    "Basado en la ingeniería. Es parecido a otros lenguajes. Análisis descriptivo y exploratorio."
   ]
  },
  {
   "cell_type": "markdown",
   "metadata": {},
   "source": [
    "# ¿Qué es SQL?\n",
    "El Lenguaje de Consulta Estructurado (SQL), es un tipo de lenguaje de programación que ayuda a solucionar problemas específicos o relacionados con la definición, manipulación e integridad de la información representada por los datos que se almacenan en las bases de datos.\n",
    "\n",
    "¿Por qué es importante aprender SQL?\n",
    "- SQL simplifica tu código\n",
    "- SQL te ahorrará en mucho\n",
    "- Mejorarás tu lógica de programación aprendiendo SQL\n",
    "- Tu aplicación puede ejecutarse más rápidamente\n",
    "- SQL puede hacer que tu aplicación se vuelva independiente de los cambios en los datos.\n",
    "- SQL se mantiene en constante evolución pero el núcleo de SQL cambia muy poco\n",
    "- Eficacia en la solución de problemas\n",
    "\n",
    "### Comandos\n",
    "- SELECT\n",
    "Selección de campos (columnas) para hacer el análisis o para sintetizar la tabla de origen.\n",
    "\n",
    "- Cláusulas\n",
    "- - FROM: Tabla donde se almacena la información.\n",
    "- - WHERE: Especificar condiciones.\n",
    "- - GROUP BY: Campos (columnas) de agrupación.\n",
    "- - ORDER BY: Campos (columnas) de ordenación.\n",
    "- Operadores Lógicos\n",
    "- - AND: Une varias condiciones.\n",
    "- - OR: Evalúa si una de las condiciones se cumple.\n",
    "- - NOT: Excluye los valores que coincidan con la condición.\n",
    "- Funciones Agregadas\n",
    "- - AVG: Promedio de un campo.\n",
    "- - COUNT: Recuento de valores de un campo.\n",
    "- - COUNT DISTINCT: Encontrar valores únicos.\n",
    "- - SUM: Suma los valores de un columna.\n",
    "- - MAX: Valor más alto de una columna.\n",
    "- - MIN: Valor más bajo de una columna."
   ]
  },
  {
   "cell_type": "markdown",
   "metadata": {},
   "source": [
    "# Aplica técnicas de storytelling para convertir problemas de datos en historias\n",
    "\n",
    "#### PROBLEMA\n",
    "Algunos alumnos de Platzi no dan comentarios de valor en el sistema de comentarios de las clases.\n",
    "No se puede prevenir este comportamiento.\n",
    "\n",
    "#### SOLUCIÓN\n",
    "Script que clasifique e identifique los comentarios que sean aportes de valor para la clase.\n",
    "Entender la estructura de los comentarios clasificados como comentarios sin valor.\n",
    "Los comentarios que sean clasificados como comentarios sin valor no deberían generar puntuación.\n",
    "Exhortar a los alumnos a utilizar canales de comunicación adecuados para cada tipo de comentario.\n",
    "Dar a los alumnos con mejores aportes de valor un reconocimiento(ejemplo una insignia).\n",
    "\n",
    "#### ALCANCE\n",
    "Sistema de comentarios de las clases de Platzi."
   ]
  },
  {
   "cell_type": "markdown",
   "metadata": {},
   "source": [
    "# ¿Cómo estructurar un caso de negocio?\n",
    "\n",
    "Desglosar un problema de negocio en una hipótesis estructurada:\n",
    "¿Qué?0Problema de negocio -> Hipótesis: Partir de una pregunta específica.\n",
    "¿Por qué? > Clasificar todos los motivos y sistematizarlo en pocas categorías, ejemplo:\n",
    "\n",
    "- Motivaciones económicas\n",
    "- Preguntas\n",
    "- Problemas tecnológicos (relacionado con problema de como comunica la empresa).\n",
    "- Política de la empresa.\n",
    "\n",
    "¿Cómo? > Estrategia de cómo vamos a diseñar y organizar todo el análisis:\n",
    "\n",
    "- Análisis cuantitativo. Debe ir siempre primero ya que es toda la información. Hacer una clasificación numérica.\n",
    "- Análisis cualitativo. Buscar categorías en función de texto. Nos ayuda a identificar características, tipos, relacionados con el problema.\n",
    "- Matriz cuantitativa-cualitativa. Poner en conjunto la información, entender los números y explicarlos más a profundidad.\n",
    "- Acciones de prevención. Definir acciones con la información que tenemos. Pasar de los insights a acciones.\n",
    "- Validación. Verificar si nuestro análisis ha servido y si nuestras acciones de prevención están teniendo efecto."
   ]
  },
  {
   "cell_type": "markdown",
   "metadata": {},
   "source": [
    "# Análisis cuantitativo en un caso de negocio\n",
    "\n",
    "#### 1.- ¿Qué?\n",
    "-¿Quienes pueden ser los top offenders?\n",
    "\n",
    "Para identificarlos debemos descargar la información de la manera más genérica posible y después se clasifican. Para que sea genérico tenemos que encontrar cualquier cliente que por lo menos haya hecho una queja en un mes, al equipo de soporte. Hacer macros o variables adaptables por ciudad y por mes. Esto servirá para replicarlo.\n",
    "\n",
    "#### 2.- Identificación\n",
    "Para identificar quiénes son debemos encontrar patrones de comportamiento y variables significativas estos van a ser las variables que nos ayuden a definir si alguien es ofender top offender.\n",
    "\n",
    "##### Hipótesis de variables\n",
    "- Madurez: Experiencia del usuario utilizando la plataforma, lo evaluamos al verificar el número de comprar realizadas.\n",
    "- Quejas mensuales. Número de quejas que hizo un cliente o usuario.\n",
    "- Compras Mensuales. Evaluar el numero de compras y el número de quejas correspondientes a esas compras. Encontrar una relación de comportamiento.\n",
    "- Gasto mensual. Tomar en cuenta el tipo de producto y su complejidad, lo cuál va relacionado muchas veces con el precio del mismo.\n",
    "- Créditos y dinero devuelto. Identificar si es una persona que busca una compensación económica.\n",
    "- Margen operativo neto. Es el Rendimiento. Que te queda como empresa a partir del comportamiento del usuario o cliente.\n",
    "(Lo que vendí x precio de lo que vendí)- recursos de soporte post venta - Dinero devuelto == Cuanto nos queda a la empresa.\n",
    "\n",
    "#### 3.- Fase de Definición\n",
    "Objetivo = encontrar una segmentación con base en la rentabilidad.\n",
    "\n",
    "Si un usuario es más rentable(compra más), le permito que se queje más.\n",
    "\n",
    "Threshold(límite). Definir el límite entre una persona que sus quejas sean normales y otra que excede las quejas normales. Definir un Threshold para cada categoría."
   ]
  },
  {
   "cell_type": "markdown",
   "metadata": {},
   "source": [
    "# Análisis cualitativo en un caso de negocio\n",
    "\n",
    "#### Clusterizar\n",
    "##### Agrupar las problemáticas, motivaciones y contactos por parte de los clientes a las que nos enfrentamos. Este ejemplo se clasificaron en 4 categorías las más de 500 tipos contactos:\n",
    "- Motivación económica. Buscan que se les devuelva el dinero. Ésta es la más grave ya que además de ser una queja, se les devuelve el dinero.\n",
    "- Preguntas. Los clientes tienen dudas.\n",
    "- Problemas tecnológicos. Relevante para identificar fallas técnicas del servicio o producto.\n",
    "- Política de empresa.\n",
    "\n",
    "#### Clasificación\n",
    "Definir los motivos detrás de los mensajes, cuando los hayamos clasificado dentro de una categoría profundizaremos en los motivos de contacto de una manera geolocalizada por lo que tendremos especificidad en cada contexto social.\n",
    "\n",
    "#### Profundizar\n",
    "Especificar lo maximo posible comprendiendo el entorno donde recurrentemente surgen los problemas"
   ]
  },
  {
   "cell_type": "markdown",
   "metadata": {},
   "source": [
    "# Fusión cuanti-cualitativa en un caso de negocio\n",
    "\n",
    "Resolver de manera conjunta la información cuantitativa y cualitativa para sacar conclusiones.\n",
    "\n",
    "Una vez que tenemos información sobre cuáles son las razones por las que los clientes nos contactan así como una clasificación de los top offenders vamos a ver por qué se queja cada uno de los tipos de top offenders para encontrar las claves del análisis.\n",
    "\n",
    "Para este análisis se utiliza una tabla con un mapa de calor para resaltar los porcentajes más elevados y poder concentrar nuestra atención en los problemas mayores más rapidamente."
   ]
  },
  {
   "cell_type": "markdown",
   "metadata": {},
   "source": [
    "# Variación de comportamiento a partir de la geolocalización\n",
    "\n",
    "Relevancia del comportamiento de acuerdo al origen geográfico por país, ciudad, distrito.\n",
    "\n",
    "En el caso de top offenders se creó un gráfico que compara las quejas vs compras de acuerdo al origen geográfico de las mismas, a nivel de ciudad. Se espera obtener una línea de 45º si el comportamiento de los resultados es normal como se observa en el gráfico.\n",
    "\n",
    "Aquellas ciudades que se alejen de la línea son aquellas que tienen más top offenders de lo normal. Las ciudades con más top offenders son Puebla, Querétaro, Toluca; esto se define al observar que las ciudades se encuentran más alejadas del eje normal y más cercanas al eje de las quejas."
   ]
  },
  {
   "cell_type": "markdown",
   "metadata": {},
   "source": [
    "# Acciones, algoritmos y toma de decisiones según los resultados del análisis\n",
    "\n",
    "#### Algoritmos:\n",
    "- Minería de texto: es el analisis de las palabras\n",
    "- Encontrar correlaciones y patrones de comportamiento: por ejemplo aprender si los usuarios que mas compran son los que mas se quejan, y porque lo hacen, etc.\n",
    "- Arboles de decisiones: Nos ayudan a la toma de decisiones, partiendo de una hipótesis A o una hipótesis B y nos iremos acercando con teoría de juegos para predecir cual es la mejor estrategia.\n",
    "- Validación con bayesianos: la estadística bayesiana es muy útil para identificar patrones que se comportan de maneja conjunta. Por ej. cual es la probabilidad que si yo aviso a un usuario de que es un top offender, reincida o lo entienda y deje de comportarse asi\n",
    "- Cadenas de Montecarlo: Son probabilidades concatenadas, conjuntas. Por ej. si un mes fue top offender, el mes siguiente lo va a ser? Ya no lo sera?. Son estudios que se hacen después de nuestro análisis, son métodos de validación. Es ver como impacto el modelo.\n",
    "\n",
    "#### Acciones:\n",
    "- Taggear, identificar a los top offenders: saber quienes son y taggearlos, para saber si ya reincidió una vez, si darle beneficios o no.\n",
    "- Advertirlos.\n",
    "- Llamar usuarios: en los mejores clientes, es mejor llamarlos y se obtiene un trato personalizado.\n",
    "- Bloquear usuarios: es en casos extremos.\n",
    "- Validación con A/B test: donde la A puede ser una llamada, y la B puede ser mandarles un mensaje y ver el comportamiento de cada uno para ver cual funciono mejor."
   ]
  },
  {
   "cell_type": "markdown",
   "metadata": {},
   "source": []
  }
 ],
 "metadata": {
  "interpreter": {
   "hash": "4219126068bc8f4e39770ff1c416a42056f8cbec4ad1b0250d2f5fa04e06bca0"
  },
  "kernelspec": {
   "display_name": "Python 3.9.10 64-bit",
   "language": "python",
   "name": "python3"
  },
  "language_info": {
   "codemirror_mode": {
    "name": "ipython",
    "version": 3
   },
   "file_extension": ".py",
   "mimetype": "text/x-python",
   "name": "python",
   "nbconvert_exporter": "python",
   "pygments_lexer": "ipython3",
   "version": "3.9.10"
  },
  "orig_nbformat": 4
 },
 "nbformat": 4,
 "nbformat_minor": 2
}
