{
 "cells": [
  {
   "cell_type": "markdown",
   "metadata": {},
   "source": [
    "# Expresiones Regulares\n",
    "Son patrones en los que definimos que cadenas de caracteres entran o no entran en el patrón diseñado.\n",
    "Además de ser útiles para quedarnos con parte de la información que necesitamos y descartamos la que no."
   ]
  },
  {
   "cell_type": "markdown",
   "metadata": {},
   "source": [
    "## Clases\n",
    "\n",
    "- Un dígito se puede expresar con /d\n",
    "- Caracter de palabra: /w\n",
    "\n",
    "Cadena de Caracteres: Es un carácter ASCII generalmente, seguido de otro carácter y de otro. No todos son visibles, el espacio por ejemplo. Cada carácter es un carácter.\n",
    "\n",
    "El caracter (.): Encuentrame todo lo que sea un carácter\n",
    "\n",
    "Encontrar un caracter que tenga un espacio depués:\n",
    "'. '\n",
    "\n",
    "Encontrar diez caracteres juntos:\n",
    "'........'"
   ]
  },
  {
   "cell_type": "markdown",
   "metadata": {},
   "source": [
    "Dígitos: \\d (digit)\n",
    "\n",
    "- Encuentra todos los dígitos de 0 a 9.\n",
    "- \\d es equivalente a poner [0-9].\n",
    "- Si en vez de \\d, usamos por ejemplo [0-2] nos encontrará solamente los dígitos de 0 a 2.\n",
    "- Podemos usar “\\D” para encontrar justo lo contrario, todo lo que no son dígitos.\n",
    "\n",
    "Palabras: \\w (all word characters)\n",
    "\n",
    "- Encuentra todo lo que puede ser parte de una palabra, tanto letras (minúsculas o mayúsculas) como números.\n",
    "- \\w es equivalente a poner [a-zA-Z0-9_].\n",
    "- Si en vez de \\w, usamos por ejemplo [a-zA-Z] nos encontrará solamente las letras.\n",
    "- Podemos usar “\\W” para encontrar justo lo contrario, todos los caracteres que no son parte de palabras.\n",
    "\n",
    "Espacios: \\s\n",
    "\n",
    "- Encuentra todos los espacios (los saltos de línea también son espacios).\n",
    "- Podemos usar “\\S” para encontrar justo lo contrario, todo lo que no son espacios."
   ]
  },
  {
   "cell_type": "markdown",
   "metadata": {},
   "source": [
    "# Delimitadores:\n",
    "- (*) : Cero o más veces\n",
    "- (?): Cero o una sola vez\n",
    "- (+): una o más veces.\n",
    "Aplican al carácter o sentencia que preceden\n",
    "\n",
    "##### Ejemplos\n",
    "- [a-z]? : Esto es que puede estar una sola vez o no estar una letra minuscula de la (a) a la (z).\n",
    "- \\d*: Esto es que puede estar muchas veces o no estar un digito.\n",
    "- \\d+: Esto es que puede estar muchas veces o una sola vez un digito."
   ]
  },
  {
   "cell_type": "markdown",
   "metadata": {},
   "source": [
    "# Contadores:\n",
    "Aplicando a un carácter que lo preceda se puede colocar entre llaves de esta forma, para indicarle que busque la cantidad deseada de caracteres.\n",
    "\n",
    "{Cota inferiror, Cota superior}\n",
    "\n",
    "##### Ejemplos:\n",
    "- \\d{0,2}: Esto buscara 0, 1, 2 dígitos\n",
    "- \\d{2,2}: Esto buscara 2 dígitos\n",
    "- \\d{2}: Esto buscara 2 dígitos\n",
    "- \\d{2,}: Esto buscara 2 o más dígitos.\n",
    "- \\d{2,4}: Esto buscara 2, 3, 4 dígitos."
   ]
  },
  {
   "cell_type": "markdown",
   "metadata": {},
   "source": [
    "# (?) como delimitador\n",
    "\n",
    "Los matches los hace lo más pequeños posibles.\n",
    "Es decir: Haz el match, pero los divides en grupos pequeños.\n",
    "\n",
    "Ejemplo:\n",
    "- .+?, encuentra todo hasta una coma, pero marca los matches mas inmediatos"
   ]
  },
  {
   "cell_type": "markdown",
   "metadata": {},
   "source": [
    "# Not (^), su uso y sus peligros\n",
    "\n",
    "Este caracter nos permite negar una clase o construir “anticlases”, vamos a llamarlo así, que es: toda la serie de caracteres que no queremos que entren en nuestro resultado de búsqueda.\n",
    "\n",
    "Para esto definimos una clase, por ejemplo: [ 0-9 ], y la negamos [ ^0-9 ] para buscar todos los caracteres que coincidan con cualquier caracter que no sea 0,1,2,3,4,5,6,7,8 ó 9\n",
    "\n",
    "Aclarar que el “gorrito” (^) solo funciona como negación cuando está dentro de los corchetes [ ] estando a fuera significa otra cosa.\n",
    "\n",
    "Ejemplo\n",
    "- [^0-5a-c ]"
   ]
  },
  {
   "cell_type": "markdown",
   "metadata": {},
   "source": [
    "# RETO\n",
    "\n",
    "En el texto siguiente:\n",
    "\n",
    "555658\\\n",
    "56-58-11\\\n",
    "56.58.11\\\n",
    "56.78-98\\\n",
    "65 09 87\\\n",
    "76y87r98\n",
    "\n",
    "Definir un patrón que haga match a todas las líneas excepto a la la última, la que tiene letras.\n",
    "\n",
    "Es decir, seleccionar todas sin importar el caracter de separación, excepto cuando los números están separados entre sí por letras."
   ]
  },
  {
   "cell_type": "markdown",
   "metadata": {},
   "source": [
    "# Principio (^) y final de linea ($)\n",
    "\n",
    "Estos dos caracteres indican en qué posición de la línea debe hacerse la búsqueda:\n",
    "el ^ se utiliza para indicar el principio de línea\n",
    "el $ se utiliza para indicar final de línea\n",
    "\n",
    "^ ------------- $\n",
    "\n",
    "^\\w+,\\w+,\\w+$\n",
    "\n",
    "Todo lo que haya entre ^ y $ es lo que va a encontrar en una línea\n",
    "\n",
    "Principalmente sirve para encontrar o no un match en una línea. Si hace varios matchs descarta la línea."
   ]
  },
  {
   "cell_type": "markdown",
   "metadata": {},
   "source": [
    "# Todos los reservados:\n",
    "\n",
    "- \\t — Representa un tabulador.\n",
    "- \\r — Representa el “retorno de carro” o “regreso al inicio” o sea el lugar en que la línea vuelve a iniciar.\n",
    "- \\n — Representa la “nueva línea” el carácter por medio del cual una línea da inicio. Es necesario recordar que en Windows es necesaria una combinación de \\r\\n para comenzar una nueva línea, mientras que en Unix solamente se usa \\n y en Mac_OS clásico se usa solamente \\r.\n",
    "- \\a — Representa una “campana” o “beep” que se produce al imprimir este carácter.\n",
    "- \\e — Representa la tecla “Esc” o “Escape”\n",
    "- \\f — Representa un salto de página\n",
    "- \\v — Representa un tabulador vertical\n",
    "- \\x — Se utiliza para representar caracteres ASCII o ANSI si conoce su código. De esta forma, si se busca el símbolo de derechos de autor y la fuente en la que se busca utiliza el conjunto de caracteres Latin-1 es posible encontrarlo utilizando “\\xA9”.\n",
    "- \\u — Se utiliza para representar caracteres Unicode si se conoce su código. “\\u00A2” representa el símbolo de centavos. No todos los motores de Expresiones Regulares soportan Unicode. El .Net Framework lo hace, pero el EditPad Pro no, por ejemplo.\n",
    "- \\d — Representa un dígito del 0 al 9.\n",
    "- \\w — Representa cualquier carácter alfanumérico.\n",
    "- \\s — Representa un espacio en blanco.\n",
    "- \\D — Representa cualquier carácter que no sea un dígito del 0 al 9.\n",
    "- \\W — Representa cualquier carácter no alfanumérico.\n",
    "- \\S — Representa cualquier carácter que no sea un espacio en blanco.\n",
    "- \\A — Representa el inicio de la cadena. No un carácter sino una posición.\n",
    "- \\Z — Representa el final de la cadena. No un carácter sino una posición.\n",
    "- \\b — Marca la posición de una palabra limitada por espacios en blanco, puntuación o el inicio/final de una cadena.\n",
    "- \\B — Marca la posición entre dos caracteres alfanuméricos o dos no-alfanuméricos."
   ]
  },
  {
   "cell_type": "markdown",
   "metadata": {},
   "source": [
    "# Ejemplos generales\n",
    "\n",
    "- \\d\\d\\d encuentra una cadena de 3 dígitos\n",
    "- \\d\\d\\d\\w encuentra una cadena de 3 dígitos y un caracter\n",
    "- \\d\\d\\d\\w\\s encuentra una cadena de 3 dígitos, un caracter y un espacio\n",
    "- [2-4] encuentra del 2 al 4\n",
    "- [a-m] encuentra de la 'a' a la 'm'\n",
    "- [a-zA-Z0-9_] encuentra de la 'a' a la 'z' minúscula, también en mayúscula, números del 0 a 9 y guion bajo\n",
    "- [a-f\\.] encuentra de la 'a' a la 'f' minúscula y el caracter punto (escapandolo)\n",
    "- [abcdef\\.] encuentra de la 'a' a la 'f' minúscula y el caracter punto (escapandolo)\n",
    "- \\d+[a-z] encuentra uno o más dígitos y un caracter de la 'a' a la 'z'\n",
    "- \\d*[a-z] encuentra cero o más dígitos y un caracter de la 'a' a la 'z'\n",
    "- \\d*[a-z][a-z]? encuentra cero o más dígitos, un caracter de la 'a' a la 'z', y uno o cero caracter de la 'a' a la 'z'\n",
    "- \\d*[a-z]s\\d* encuentra cero o más dígitos, un caracter de la 'a' a la 'z', un caracter 's' y encuentra cero o más dígitos\n",
    "- \\d{2,2}\\-?\\d{2,2}\\-? encuentra dos pares de dígitos que puedan estar separados o no por un guión\n",
    "- \\d{2,2}[\\-\\.]?\\d{2,2}[\\-\\.]? encuentra dos pares de dígitos que puedan estar separados o no por un guión o un punto\n",
    "- \\d{2,2}[\\-\\. ]?\\d{2,2}[\\-\\. ]? encuentra dos pares de dígitos que puedan estar separados o no por un guión/un punto/espacio\n",
    "- (\\d{2,2}[\\-\\. ]?){2,} encuentra dos pares de dígitos que puedan estar separados o no por un guión/un punto/espacio\n",
    "- ^\\[LOG.*\\[WARN\\] encuentra cuando *empieza* con '[' y luego 'LOG', cualquier cadena que le siga, hasta que siga con '[', luego WARN y ']'\n",
    "- ^\\+?(\\d{2,3}\\W?){3,3}[pe#]?\\d*? para encontrar numeros de telefono\n",
    "- ^\\+?\\d{2,3}[^\\da-z]?\\d{2,3}[^\\da-z]?\\d{2,3}[#pe]?\\d*$ lo de arriba pero mejor\n",
    "- https?:\\/\\/[\\w\\-\\.]+\\.\\w{2,5}\\/?\\S* Para encontrar los links, incluidos subdominios.\n",
    "- [\\w\\._]{5,30}\\+?[\\w]{0,30}@[\\w\\.\\-]{3,}\\.\\w{2,5} Para encontrar mails\n",
    "- ^-?\\d{1,3}\\.\\d{1,6},\\s?-?\\d{1,3}\\.\\d{1,6},.*$ Para encontrar coordenadas latitud y longitud\n",
    "- ^\\-?\\d{1,3}\\s\\d{1,2}'\\s\\d{1,2}\\.\\d{2,2}\"[WE],\\s?\\-?\\d{1,3}\\s\\d{1,2}'\\s\\d{1,2}\\.\\d{2,2}\"[NS]$ Para encontrar coordenadas en grados\n",
    "- ^([A-Z\\u+00C0-\\u+231a-z][a-z\\u+00C0-\\u+231]{1,}\\s){1,} Encuentra nombres\n",
    "- ^\\d+::([\\w\\s:,\\(\\)'\\.\\-&!\\/\\?é]+)\\s\\((\\d{4})\\)::.*$ Encuentra los titulos de las películas\n",
    "Lo que tiene de NUEVO es que separa dos grupos para que podamos usar el replace con $1 y $2.\n",
    "- -  'insert into movies (year, title) values ($2, '$1');'\n",
    "- -  {title:\"$1\", year:$2}\n",
    "- [\\?&](\\w+)=([^&\\n]+) Para encontrar los valores de querys en links de los GET\n",
    "- ^([\\d]{4,4})\\-.*?,(.*?),(.*?),(\\d+),(\\d+),.*$ ejemplo del video de Pearl"
   ]
  },
  {
   "cell_type": "markdown",
   "metadata": {},
   "source": [
    "### Averiguar como funciona esto\n",
    "[-+]?\\d*\\.\\d+|\\d+"
   ]
  },
  {
   "cell_type": "markdown",
   "metadata": {},
   "source": []
  }
 ],
 "metadata": {
  "interpreter": {
   "hash": "4219126068bc8f4e39770ff1c416a42056f8cbec4ad1b0250d2f5fa04e06bca0"
  },
  "kernelspec": {
   "display_name": "Python 3.9.10 64-bit",
   "language": "python",
   "name": "python3"
  },
  "language_info": {
   "codemirror_mode": {
    "name": "ipython",
    "version": 3
   },
   "file_extension": ".py",
   "mimetype": "text/x-python",
   "name": "python",
   "nbconvert_exporter": "python",
   "pygments_lexer": "ipython3",
   "version": "3.9.10"
  },
  "orig_nbformat": 4
 },
 "nbformat": 4,
 "nbformat_minor": 2
}
