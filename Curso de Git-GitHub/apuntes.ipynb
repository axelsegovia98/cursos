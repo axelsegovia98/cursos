{
 "cells": [
  {
   "cell_type": "markdown",
   "metadata": {},
   "source": [
    "# Qué es Git?\n",
    "\n",
    "Git es un sistema de control de versiones distribuido, diseñado por Linus Torvalds. Está pensando en la eficiencia y la confiabilidad del mantenimiento de versiones de aplicaciones cuando estas tienen un gran número de archivos de código fuente. Git está optimizado para guardar todos estos cambios de forma atómica e incremental.\n",
    "\n",
    "Se obtiene su mayor eficiencia con archivos de texto plano, ya que con archivos binarios no puede guardar solo los cambios, sino que debe volver a grabar el archivo completo ante cada modificación, por mínima que sea, lo que hace que incremente demasiado el tamaño del repositorio.\n",
    "\n",
    "“Guardar archivos binarios en el repositorio de git es una mala práctica, únicamente deberían guardarse archivos pequeños (como logos) que no sufran casi modificaciones durante la vida del proyecto. Los binarios deben guardarse en un CDN”."
   ]
  },
  {
   "cell_type": "markdown",
   "metadata": {},
   "source": [
    "# ¿Qué es Github?\n",
    "\n",
    "Es una plataforma de desarrollo colaborativo para alojar proyectos utilizando el sistema de control de versiones Git. Se emplea principalmente para la creación de código fuente de programas de computadora.\n",
    "\n",
    "Github puede considerarse como la red social de código para los programadores y en muchos casos es visto como tu curriculum vitae, pues aquí guardas tu portafolio de proyectos de programación."
   ]
  },
  {
   "cell_type": "markdown",
   "metadata": {},
   "source": [
    "# Comandos Principales\n",
    "\n",
    "- **pwd**\n",
    "    - nos muestra el path o ruta de la carpeta en donde nos encontramos ubicados\n",
    "- **cd**\n",
    "    - me permite acceder (entrar) a una carpeta en un nivel o varios niveles\n",
    "- **cd ..**\n",
    "    - me permite salir de una carpeta en un nivel o varios niveles OJO los dos puntos deben ser separados por un espacio del comando cd\n",
    "- **ls**\n",
    "    - me muestra los archivos que contiene una carpeta, puede ser la ubicación actual o una ruta especifica, no muestra los archivos ocultos\n",
    "- **ls -a**\n",
    "    - me muestra los archivos que contiene una carpeta, puede ser la ubicación actual o una ruta especifica, incluyendo los archivos ocultos\n",
    "- **ls -l**\n",
    "    - me lista los archivos que contiene una carpeta con sus atributos, puede ser la ubicación actual o una ruta especifica, no muestra los archivos ocultos\n",
    "- **ls -la**\n",
    "    - me lista los archivos que contiene una carpeta con sus atributos, puede ser la ubicación actual o una ruta especifica, incluyendo los archivos ocultos\n",
    "- **clear**\n",
    "    - limpiar la consola o terminal, o un shorcut crtl + L\n",
    "- **mkdir _nombre carpeta_**\n",
    "    - nos permite crear una carpeta\n",
    "- **touch _nombre del archivo_>_**\n",
    "    - nos permite crear un archivo\n",
    "- **cat _nombre del archivo_>_**\n",
    "    - me permite visualizar el contenido del un archivo y lo muestra en el terminal\n",
    "- **history**\n",
    "    - nos muestra un historial de los comandos que hemos utilizado\n",
    "- **rm _nombre del archivo_>_**\n",
    "    - me permite borrar un archivo\n",
    "\n",
    "OJO en Windows el terminal no es case sensitive (Sensible las mayusculas), con Linux,y UNIX si son case sensitive"
   ]
  },
  {
   "cell_type": "markdown",
   "metadata": {},
   "source": []
  }
 ],
 "metadata": {
  "language_info": {
   "name": "python"
  },
  "orig_nbformat": 4
 },
 "nbformat": 4,
 "nbformat_minor": 2
}
