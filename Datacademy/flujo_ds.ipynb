{
 "cells": [
  {
   "cell_type": "markdown",
   "metadata": {},
   "source": [
    "- Data ingestion\n",
    "- Data visualization\n",
    "- Data preparation      # Data Engineer\n",
    "- Model training        # Data analysis\n",
    "- Model evaluation      # Data Scientist\n",
    "- Model validation      # ML Engineer / Research scientist\n",
    "- Model serving\n",
    "- End user interface    # Developer"
   ]
  },
  {
   "cell_type": "markdown",
   "metadata": {},
   "source": []
  },
  {
   "cell_type": "markdown",
   "metadata": {},
   "source": [
    "Ingesta de datos / Validación\n",
    "\n",
    "Tipos de datos, pipeline de procesamiento"
   ]
  },
  {
   "cell_type": "markdown",
   "metadata": {},
   "source": [
    "Preparación / Entrenamiento de modelo\n",
    "\n",
    "Análisis exploratorio, estadística descriptiva, correlaciones, reducciones de datos"
   ]
  },
  {
   "cell_type": "markdown",
   "metadata": {},
   "source": [
    "Evalución de modelo\n",
    "\n",
    "Probabilidad e inferencia"
   ]
  },
  {
   "cell_type": "markdown",
   "metadata": {},
   "source": [
    "Modelo de produccion / Interacción con el usuario final\n",
    "\n",
    "Test de hipótesis\n"
   ]
  },
  {
   "cell_type": "markdown",
   "metadata": {},
   "source": [
    "=========================================================="
   ]
  },
  {
   "cell_type": "markdown",
   "metadata": {},
   "source": [
    "- Primera Etapa: Ingesta de datos - Validacion: transformaciones que se deben hacer a los datos para que queden limpios y adaptados a lo que necesita el modelo para resolver un problema puntual de negocio.\n",
    "\n",
    "- Segunda Etapa: Preparacion - Entrenamiento del modelo: hacer un analisis exploratorio de los datos con estasdistica descriptiva, entender si hay correlacion entre los datos y hacer posibles reducciones de datos.\n",
    "\n",
    "- Tercera Etapa: Evaluacion del modelo - Modelo de produccion - Interaccion usuario final. Se utiliza la probabilidad y la inferencia.\n",
    "\n",
    "La estadistica descriptiva esta mas asociada a la primera y segunda etapa del flujo. Toma mayor relevancia en La Ingesta y Validacion de los datos asi como tambien en la Preparacion y Entrenamiento del modelo."
   ]
  }
 ],
 "metadata": {
  "language_info": {
   "name": "python"
  },
  "orig_nbformat": 4
 },
 "nbformat": 4,
 "nbformat_minor": 2
}
