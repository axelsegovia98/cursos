{
 "cells": [
  {
   "cell_type": "markdown",
   "metadata": {},
   "source": [
    "Las medidas de tendencia central son una forma de resumir nuestra información.\n",
    "\n",
    "Las medidas de tendencia central nos entregan información respecto a alrededor de qué puntos (números) se encuentran distribuidos nuestros datos. La desventaja principal de las medidas de tendencia central es que pueden ser afectadas por los puntos extremos o valores atípicos.\n",
    "\n",
    "Las medidas de tendencia central principales son:\n",
    "\n",
    "- Media (promedio)\n",
    "- Mediana (El dato central o de la mitad de la muestra)\n",
    "- Moda (el dato que más se repite, el más común)"
   ]
  },
  {
   "cell_type": "markdown",
   "metadata": {},
   "source": [
    "- Media: Noción centralizada de los datos. Se puede llegar a ver afectada por algún dato atípico.\n",
    "- Mediana: Dato que esta en la mitad. Tener en cuenta si el conjunto de datos esta en la mitad o no.\n",
    "- Moda: Dato que mas se repite.(No aplica para variables continuas"
   ]
  }
 ],
 "metadata": {
  "language_info": {
   "name": "python"
  },
  "orig_nbformat": 4
 },
 "nbformat": 4,
 "nbformat_minor": 2
}
