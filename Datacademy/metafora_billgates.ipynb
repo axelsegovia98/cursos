{
 "cells": [
  {
   "cell_type": "markdown",
   "metadata": {},
   "source": [
    "# La metáfora de Bill Gates \n",
    "Es muy utilizada en conceptos de evaluación social, y para evidenciar los problemas de evaluar el avance o bienestar social a través de medidas como el PIB Per Cápita.\n",
    "\n",
    "En la metáfora descubrimos que los puntos atípicos pueden generar distorsiones (sesgos) importantes sobre estadísticos como la media. \n",
    "Entonces, aprendemos a utilizar otros recursos como la mediana para evitar ser afectados en por esos sesgos."
   ]
  },
  {
   "cell_type": "markdown",
   "metadata": {},
   "source": [
    "# ¿Cómo se calcula la media?\n",
    "\n",
    "Se suman todos los valores del conjunto de datos y el resultado se divide entre la cantidad de elementos.\n",
    "\n",
    "Donde N representa el número de elementos dentro del dataset.\n",
    "\n",
    "\n",
    "¿Cómo calcular la mediana?\n",
    "Hay 2 formas de calcular la mediana que depende si el número de elementos del dataset es par o impar.\n",
    "\n",
    "Par: se toma a los 2 valores que están en el centro y se calcula su promedio.\n",
    "\n",
    "Impar: simplemente se toma al valor que esta exactamente en el centro del dataset.\n",
    "\n",
    "Nota: Para calcular la mediana el conjunto de datos tiene que estar ordenado."
   ]
  }
 ],
 "metadata": {
  "language_info": {
   "name": "python"
  },
  "orig_nbformat": 4
 },
 "nbformat": 4,
 "nbformat_minor": 2
}
