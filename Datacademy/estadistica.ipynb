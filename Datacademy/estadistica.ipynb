{
 "cells": [
  {
   "cell_type": "markdown",
   "metadata": {},
   "source": [
    "¿Que es la estadísitca descriptiva y la inferencial?\n",
    "\n",
    "En base a estadísiticas de un jugador:\n",
    "\n",
    "- Descriptiva: Resumir un historial deportivo.\n",
    "\n",
    "- Inferencial: Predecir desempeño futuro de un jugador.\n",
    "\n",
    "\n",
    "Se puede mentir con la estádistica. (Los datos están sujetos a la subjetividad de quien los investiga)\n",
    "\n",
    "- Depende de la *definición* por ejemplo de \"Quien es el mejor jugador\".\n",
    "- No hay una definición objetiva.\n",
    "- Los diferentes estadísticos descriptivos dan nociones diferentes sobre los mismos datos.\n",
    "\n",
    "\n",
    "\n",
    "Por qué aprender estadísitica?\n",
    "\n",
    "- Resumir grandes cantidades de información.\n",
    "- Tomar mejores decisiones (O peores).\n",
    "- Responder preguntas con relevancia social.\n",
    "- Reconocer patrones en los datos.\n",
    "- Descubrir a quienes usan estas herramientas con fines nefastos."
   ]
  }
 ],
 "metadata": {
  "language_info": {
   "name": "python"
  },
  "orig_nbformat": 4
 },
 "nbformat": 4,
 "nbformat_minor": 2
}
