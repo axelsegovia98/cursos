{
 "cells": [
  {
   "cell_type": "code",
   "execution_count": 2,
   "metadata": {},
   "outputs": [],
   "source": [
    "import numpy as np"
   ]
  },
  {
   "cell_type": "code",
   "execution_count": 3,
   "metadata": {},
   "outputs": [
    {
     "name": "stdout",
     "output_type": "stream",
     "text": [
      "[ 1  2  4  8 16]\n",
      "[[ 5 10]\n",
      " [15 30]]\n"
     ]
    }
   ],
   "source": [
    "vector = np.array([1, 2, 4, 8, 16])\n",
    "print(vector)\n",
    "# >>> [ 1  2  4  8 16]\n",
    "\n",
    "matrix = np.array([[5, 10], [15, 30]])\n",
    "print(matrix)\n",
    "# >>> [[ 5 10], [15 30]]"
   ]
  },
  {
   "cell_type": "code",
   "execution_count": 4,
   "metadata": {},
   "outputs": [
    {
     "name": "stdout",
     "output_type": "stream",
     "text": [
      "[100 200 300 400]\n",
      "[[100 200 300 400]\n",
      " [  3   4   5   6]]\n"
     ]
    }
   ],
   "source": [
    "lista_1 = [100, 200, 300, 400]\n",
    "lista_2 = [3, 4, 5, 6]\n",
    "\n",
    "vector_2 = np.array(lista_1)\n",
    "print(vector_2)\n",
    "# >>> [100 200 300 400]\n",
    "\n",
    "matrix_2 = np.array([lista_1, lista_2])\n",
    "print(matrix_2)\n",
    "# >>> [[100 200 300 400]\n",
    "#  [  3   4   5   6]]"
   ]
  },
  {
   "cell_type": "code",
   "execution_count": 5,
   "metadata": {},
   "outputs": [
    {
     "data": {
      "text/plain": [
       "numpy.ndarray"
      ]
     },
     "execution_count": 5,
     "metadata": {},
     "output_type": "execute_result"
    }
   ],
   "source": [
    "type(vector)"
   ]
  },
  {
   "cell_type": "code",
   "execution_count": 6,
   "metadata": {},
   "outputs": [
    {
     "name": "stdout",
     "output_type": "stream",
     "text": [
      "(5,)\n",
      "(2, 2)\n",
      "(2, 4)\n"
     ]
    }
   ],
   "source": [
    "print(vector.shape)\n",
    "# >>> (5,)\n",
    "\n",
    "print(matrix.shape)\n",
    "# >>> (2, 2)\n",
    "\n",
    "print(matrix_2.shape)\n",
    "# >>> (2, 4)"
   ]
  },
  {
   "cell_type": "code",
   "execution_count": 7,
   "metadata": {},
   "outputs": [
    {
     "name": "stdout",
     "output_type": "stream",
     "text": [
      "int32\n",
      "int32\n",
      "float64\n"
     ]
    }
   ],
   "source": [
    "print(vector.dtype)\n",
    "# >>> dtype('int64')\n",
    "\n",
    "print(matrix.dtype)\n",
    "# >>> dtype('int64')\n",
    "\n",
    "vector_4 = np.array([1.4, 5.6, 6.8])\n",
    "print(vector_4.dtype)\n",
    "# >>> dtype('float64')"
   ]
  }
 ],
 "metadata": {
  "interpreter": {
   "hash": "4219126068bc8f4e39770ff1c416a42056f8cbec4ad1b0250d2f5fa04e06bca0"
  },
  "kernelspec": {
   "display_name": "Python 3.9.10 64-bit",
   "language": "python",
   "name": "python3"
  },
  "language_info": {
   "codemirror_mode": {
    "name": "ipython",
    "version": 3
   },
   "file_extension": ".py",
   "mimetype": "text/x-python",
   "name": "python",
   "nbconvert_exporter": "python",
   "pygments_lexer": "ipython3",
   "version": "3.9.10"
  },
  "orig_nbformat": 4
 },
 "nbformat": 4,
 "nbformat_minor": 2
}
